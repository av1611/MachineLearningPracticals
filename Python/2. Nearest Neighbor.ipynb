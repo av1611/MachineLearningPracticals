{
 "cells": [
  {
   "cell_type": "markdown",
   "metadata": {},
   "source": [
    "# Nearest Neighbor Classifier"
   ]
  },
  {
   "cell_type": "code",
   "execution_count": 1,
   "metadata": {
    "collapsed": true
   },
   "outputs": [],
   "source": [
    "import numpy as np\n",
    "\n",
    "# Load images from .npy file\n",
    "images = np.load('MNIST/mnist_images.npy')\n",
    "labels = np.load('MNIST/mnist_labels.npy')\n",
    "\n",
    "# Let's reduce number of images to 2000\n",
    "images = images[:2000,:]\n",
    "labels = labels[:2000]"
   ]
  },
  {
   "cell_type": "markdown",
   "metadata": {},
   "source": [
    "Now we will define a distance function..."
   ]
  },
  {
   "cell_type": "code",
   "execution_count": 2,
   "metadata": {
    "collapsed": false
   },
   "outputs": [],
   "source": [
    "def dist(img1, img2):\n",
    "    return np.sum(np.abs(img1 - img2))"
   ]
  },
  {
   "cell_type": "markdown",
   "metadata": {},
   "source": [
    "You can play with the defined function below. Check that the distance between images of the same digit is typically smaller than the distance between images of different digits."
   ]
  },
  {
   "cell_type": "code",
   "execution_count": 3,
   "metadata": {
    "collapsed": false
   },
   "outputs": [
    {
     "name": "stdout",
     "output_type": "stream",
     "text": [
      "Distance between images of 3 and 6 is 36456\n",
      "Distance between images of 3 and 3 is 24026\n"
     ]
    }
   ],
   "source": [
    "print \"Distance between images of %d and %d is %d\" % (labels[1], labels[3], dist(images[1,:], images[3,:]))\n",
    "print \"Distance between images of %d and %d is %d\" % (labels[1], labels[11], dist(images[1,:], images[11,:]))"
   ]
  },
  {
   "cell_type": "markdown",
   "metadata": {},
   "source": [
    "Now the actual algorithm. It consists of three steps.\n",
    "\n",
    "1. Compute distances to all points in the dataset\n",
    "2. Find the closest point, and \n",
    "3. Report the corresponding label.\n",
    "\n",
    "**Exercise**: Implement the three steps.\n",
    "\n",
    "We shall do it gently. First we pick a sample image that we will be classifying. Let us say this will be an unknown image sent by our friend:"
   ]
  },
  {
   "cell_type": "code",
   "execution_count": 4,
   "metadata": {
    "collapsed": false
   },
   "outputs": [],
   "source": [
    "unk = images[0]"
   ]
  },
  {
   "cell_type": "markdown",
   "metadata": {},
   "source": [
    "Compute all distances from the `unknown_image` to the images in the dataset"
   ]
  },
  {
   "cell_type": "code",
   "execution_count": 7,
   "metadata": {
    "collapsed": false
   },
   "outputs": [
    {
     "data": {
      "text/plain": [
       "[43477, 36954, 35795, 36134, 38081]"
      ]
     },
     "execution_count": 7,
     "metadata": {},
     "output_type": "execute_result"
    }
   ],
   "source": [
    "all_distances = [dist(unk, img) for img in images[1:]]\n",
    "all_distances[0:5]"
   ]
  },
  {
   "cell_type": "markdown",
   "metadata": {},
   "source": [
    "Now let's find out which image is closest to our `uknown_image`"
   ]
  },
  {
   "cell_type": "code",
   "execution_count": 8,
   "metadata": {
    "collapsed": false
   },
   "outputs": [],
   "source": [
    "i = np.argmin(all_distances)"
   ]
  },
  {
   "cell_type": "markdown",
   "metadata": {},
   "source": [
    "Almost done, now report a label with index `i` in `labels`"
   ]
  },
  {
   "cell_type": "code",
   "execution_count": 9,
   "metadata": {
    "collapsed": false
   },
   "outputs": [],
   "source": [
    "predicted_label = labels[i + 1]"
   ]
  },
  {
   "cell_type": "markdown",
   "metadata": {},
   "source": [
    "Compare it to the true label of the first image in the `labels`"
   ]
  },
  {
   "cell_type": "code",
   "execution_count": 10,
   "metadata": {
    "collapsed": true
   },
   "outputs": [],
   "source": [
    "true_label = labels[0]"
   ]
  },
  {
   "cell_type": "code",
   "execution_count": 11,
   "metadata": {
    "collapsed": false
   },
   "outputs": [
    {
     "data": {
      "text/plain": [
       "True"
      ]
     },
     "execution_count": 11,
     "metadata": {},
     "output_type": "execute_result"
    }
   ],
   "source": [
    "true_label == predicted_label"
   ]
  },
  {
   "cell_type": "code",
   "execution_count": 12,
   "metadata": {
    "collapsed": false
   },
   "outputs": [
    {
     "name": "stdout",
     "output_type": "stream",
     "text": [
      "Predicted class for the first image is 7 and the true label is 7\n"
     ]
    }
   ],
   "source": [
    "print \"Predicted class for the first image is %d and the true label is %d\" % (predicted_label, true_label)"
   ]
  },
  {
   "cell_type": "markdown",
   "metadata": {},
   "source": [
    "**Exercise!** Use code from the previous practice session to plot the first example and visually confirm it's label. Don't forget about matplotlib import and inline settings :)"
   ]
  },
  {
   "cell_type": "code",
   "execution_count": null,
   "metadata": {
    "collapsed": false
   },
   "outputs": [],
   "source": [
    "... your code here ..."
   ]
  },
  {
   "cell_type": "markdown",
   "metadata": {},
   "source": [
    "Now we should make a function out of the code we have already written, copy paste appropriate lines below"
   ]
  },
  {
   "cell_type": "code",
   "execution_count": 13,
   "metadata": {
    "collapsed": true
   },
   "outputs": [],
   "source": [
    "def classify(unk):\n",
    "    all_distances = [dist(unk, img) for img in images]\n",
    "    return labels[np.argmin(all_distances)]"
   ]
  },
  {
   "cell_type": "markdown",
   "metadata": {},
   "source": [
    "Test it to verify that it works"
   ]
  },
  {
   "cell_type": "code",
   "execution_count": 14,
   "metadata": {
    "collapsed": false
   },
   "outputs": [
    {
     "data": {
      "text/plain": [
       "7"
      ]
     },
     "execution_count": 14,
     "metadata": {},
     "output_type": "execute_result"
    }
   ],
   "source": [
    "classify(unk)"
   ]
  },
  {
   "cell_type": "code",
   "execution_count": 15,
   "metadata": {
    "collapsed": false
   },
   "outputs": [
    {
     "name": "stdout",
     "output_type": "stream",
     "text": [
      "Predicted class for the first image is 7 and the true label is 7\n"
     ]
    }
   ],
   "source": [
    "print \"Predicted class for the first image is %d and the true label is %d\" % (classify(images[0]), labels[0])"
   ]
  },
  {
   "cell_type": "markdown",
   "metadata": {
    "collapsed": true
   },
   "source": [
    "One very popular variation of Nearest Neighbour is K-nearest neighbour. In this algorithm a label for a new instance is chosen by majority vote by **`k`** of its nearest neighbors. \n",
    "\n",
    "The actual algorithm is not very different from vanila nearest neighbour:\n",
    "\n",
    "1. Compute distances to all points in the dataset\n",
    "2. Find the **`k`** closest points\n",
    "3. Report the most popular label from these **`k`**.\n",
    "\n",
    "**Exercise**: Implement KNN algorithm reusing some code from `dist()` and `classify()` functions. **Hint** make use of `argpartition()` function in `numpy`."
   ]
  },
  {
   "cell_type": "code",
   "execution_count": 33,
   "metadata": {
    "collapsed": true
   },
   "outputs": [],
   "source": [
    "def classify_knn(unk, k):\n",
    "    all_distances = [dist(unk, img) for img in images]\n",
    "    knn = np.argpartition(all_distances, k)[0:k]\n",
    "    print(np.sort(labels[knn]))\n",
    "    return np.median(np.sort(labels[knn]))"
   ]
  },
  {
   "cell_type": "markdown",
   "metadata": {},
   "source": [
    "Test this new function"
   ]
  },
  {
   "cell_type": "code",
   "execution_count": 34,
   "metadata": {
    "collapsed": false
   },
   "outputs": [
    {
     "name": "stdout",
     "output_type": "stream",
     "text": [
      "[2 3 7 7 7 7 7 9 9 9]\n",
      "Predicted class for the first image is 7 and the true label is 7\n"
     ]
    }
   ],
   "source": [
    "print \"Predicted class for the first image is %d and the true label is %d\" % (classify_knn(unk, 10), true_label) "
   ]
  },
  {
   "cell_type": "code",
   "execution_count": null,
   "metadata": {
    "collapsed": true
   },
   "outputs": [],
   "source": []
  }
 ],
 "metadata": {
  "kernelspec": {
   "display_name": "Python 2",
   "language": "python",
   "name": "python2"
  },
  "language_info": {
   "codemirror_mode": {
    "name": "ipython",
    "version": 2
   },
   "file_extension": ".py",
   "mimetype": "text/x-python",
   "name": "python",
   "nbconvert_exporter": "python",
   "pygments_lexer": "ipython2",
   "version": "2.7.10"
  }
 },
 "nbformat": 4,
 "nbformat_minor": 0
}
