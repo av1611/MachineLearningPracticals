{
 "cells": [
  {
   "cell_type": "code",
   "execution_count": 1,
   "metadata": {
    "collapsed": true
   },
   "outputs": [],
   "source": [
    "import numpy as np\n",
    "images = np.load('MNIST/mnist_images.npy')\n",
    "labels = np.load('MNIST/mnist_labels.npy')\n",
    "\n",
    "train_images = images[:1000,:]\n",
    "train_labels = labels[:1000]\n",
    "test_images = images[1000:2000,:]\n",
    "test_labels = labels[1000:2000]\n",
    "\n",
    "num_classes = 10"
   ]
  },
  {
   "cell_type": "code",
   "execution_count": 2,
   "metadata": {
    "collapsed": false
   },
   "outputs": [
    {
     "name": "stderr",
     "output_type": "stream",
     "text": [
      "Using TensorFlow backend.\n"
     ]
    }
   ],
   "source": [
    "import keras\n",
    "from keras.datasets import mnist\n",
    "from keras.models import Sequential\n",
    "from keras.layers import Dense, Dropout"
   ]
  },
  {
   "cell_type": "code",
   "execution_count": 3,
   "metadata": {
    "collapsed": false
   },
   "outputs": [
    {
     "name": "stdout",
     "output_type": "stream",
     "text": [
      "(1000, 10)\n"
     ]
    }
   ],
   "source": [
    "# convert class vectors to binary class matrices\n",
    "train_labels = keras.utils.to_categorical(train_labels, num_classes)\n",
    "test_labels = keras.utils.to_categorical(test_labels, num_classes)\n",
    "print train_labels.shape"
   ]
  },
  {
   "cell_type": "code",
   "execution_count": 6,
   "metadata": {
    "collapsed": false
   },
   "outputs": [],
   "source": [
    "model = Sequential()\n",
    "model.add(Dense(128, input_shape=(784,), activation='relu'))\n",
    "model.add(Dropout(0.5))\n",
    "model.add(Dense(num_classes, activation='softmax'))\n",
    "model.compile(optimizer='rmsprop',\n",
    "          loss='categorical_crossentropy',\n",
    "          metrics=['accuracy'])"
   ]
  },
  {
   "cell_type": "code",
   "execution_count": 7,
   "metadata": {
    "collapsed": false
   },
   "outputs": [
    {
     "name": "stdout",
     "output_type": "stream",
     "text": [
      "(1000, 10)\n",
      "Train on 1000 samples, validate on 1000 samples\n",
      "Epoch 1/50\n",
      "1000/1000 [==============================] - 0s - loss: 13.7822 - acc: 0.1400 - val_loss: 12.9263 - val_acc: 0.1960\n",
      "Epoch 2/50\n",
      "1000/1000 [==============================] - 0s - loss: 13.1235 - acc: 0.1830 - val_loss: 13.1901 - val_acc: 0.1800\n",
      "Epoch 3/50\n",
      "1000/1000 [==============================] - 0s - loss: 13.2110 - acc: 0.1770 - val_loss: 12.2089 - val_acc: 0.2360\n",
      "Epoch 4/50\n",
      "1000/1000 [==============================] - 0s - loss: 12.4187 - acc: 0.2210 - val_loss: 11.7489 - val_acc: 0.2620\n",
      "Epoch 5/50\n",
      "1000/1000 [==============================] - 0s - loss: 12.3419 - acc: 0.2250 - val_loss: 11.7608 - val_acc: 0.2650\n",
      "Epoch 6/50\n",
      "1000/1000 [==============================] - 0s - loss: 11.7420 - acc: 0.2650 - val_loss: 11.3687 - val_acc: 0.2870\n",
      "Epoch 7/50\n",
      "1000/1000 [==============================] - 0s - loss: 11.6034 - acc: 0.2760 - val_loss: 11.4636 - val_acc: 0.2860\n",
      "Epoch 8/50\n",
      "1000/1000 [==============================] - 0s - loss: 11.0278 - acc: 0.3090 - val_loss: 10.1604 - val_acc: 0.3590\n",
      "Epoch 9/50\n",
      "1000/1000 [==============================] - 0s - loss: 10.4963 - acc: 0.3410 - val_loss: 9.7860 - val_acc: 0.3830\n",
      "Epoch 10/50\n",
      "1000/1000 [==============================] - 0s - loss: 10.3010 - acc: 0.3560 - val_loss: 9.7792 - val_acc: 0.3900\n",
      "Epoch 11/50\n",
      "1000/1000 [==============================] - 0s - loss: 9.9816 - acc: 0.3780 - val_loss: 9.6779 - val_acc: 0.3970\n",
      "Epoch 12/50\n",
      "1000/1000 [==============================] - 0s - loss: 10.1347 - acc: 0.3640 - val_loss: 10.1773 - val_acc: 0.3650\n",
      "Epoch 13/50\n",
      "1000/1000 [==============================] - 0s - loss: 9.5860 - acc: 0.3980 - val_loss: 8.8701 - val_acc: 0.4460\n",
      "Epoch 14/50\n",
      "1000/1000 [==============================] - 0s - loss: 9.3248 - acc: 0.4130 - val_loss: 8.7694 - val_acc: 0.4480\n",
      "Epoch 15/50\n",
      "1000/1000 [==============================] - 0s - loss: 8.7946 - acc: 0.4510 - val_loss: 8.3571 - val_acc: 0.4780\n",
      "Epoch 16/50\n",
      "1000/1000 [==============================] - 0s - loss: 8.8628 - acc: 0.4360 - val_loss: 8.5196 - val_acc: 0.4680\n",
      "Epoch 17/50\n",
      "1000/1000 [==============================] - 0s - loss: 8.7916 - acc: 0.4480 - val_loss: 8.3325 - val_acc: 0.4780\n",
      "Epoch 18/50\n",
      "1000/1000 [==============================] - 0s - loss: 8.4318 - acc: 0.4720 - val_loss: 8.3608 - val_acc: 0.4790\n",
      "Epoch 19/50\n",
      "1000/1000 [==============================] - 0s - loss: 8.1457 - acc: 0.4860 - val_loss: 8.1440 - val_acc: 0.4900\n",
      "Epoch 20/50\n",
      "1000/1000 [==============================] - 0s - loss: 7.9556 - acc: 0.4980 - val_loss: 7.4107 - val_acc: 0.5320\n",
      "Epoch 21/50\n",
      "1000/1000 [==============================] - 0s - loss: 7.3430 - acc: 0.5360 - val_loss: 7.1421 - val_acc: 0.5490\n",
      "Epoch 22/50\n",
      "1000/1000 [==============================] - 0s - loss: 7.4448 - acc: 0.5270 - val_loss: 6.5981 - val_acc: 0.5790\n",
      "Epoch 23/50\n",
      "1000/1000 [==============================] - 0s - loss: 6.8781 - acc: 0.5610 - val_loss: 6.1317 - val_acc: 0.6150\n",
      "Epoch 24/50\n",
      "1000/1000 [==============================] - 0s - loss: 6.6692 - acc: 0.5760 - val_loss: 6.7979 - val_acc: 0.5740\n",
      "Epoch 25/50\n",
      "1000/1000 [==============================] - 0s - loss: 6.7912 - acc: 0.5740 - val_loss: 6.2804 - val_acc: 0.6050\n",
      "Epoch 26/50\n",
      "1000/1000 [==============================] - 0s - loss: 6.4974 - acc: 0.5880 - val_loss: 5.4577 - val_acc: 0.6550\n",
      "Epoch 27/50\n",
      "1000/1000 [==============================] - 0s - loss: 6.1522 - acc: 0.6080 - val_loss: 6.1364 - val_acc: 0.6120\n",
      "Epoch 28/50\n",
      "1000/1000 [==============================] - 0s - loss: 5.7533 - acc: 0.6370 - val_loss: 5.1728 - val_acc: 0.6730\n",
      "Epoch 29/50\n",
      "1000/1000 [==============================] - 0s - loss: 5.8422 - acc: 0.6310 - val_loss: 5.3113 - val_acc: 0.6650\n",
      "Epoch 30/50\n",
      "1000/1000 [==============================] - 0s - loss: 5.7070 - acc: 0.6400 - val_loss: 5.2670 - val_acc: 0.6700\n",
      "Epoch 31/50\n",
      "1000/1000 [==============================] - 0s - loss: 5.5784 - acc: 0.6500 - val_loss: 5.4890 - val_acc: 0.6530\n",
      "Epoch 32/50\n",
      "1000/1000 [==============================] - 0s - loss: 5.2922 - acc: 0.6680 - val_loss: 4.8896 - val_acc: 0.6880\n",
      "Epoch 33/50\n",
      "1000/1000 [==============================] - 0s - loss: 5.3344 - acc: 0.6650 - val_loss: 4.4559 - val_acc: 0.7140\n",
      "Epoch 34/50\n",
      "1000/1000 [==============================] - 0s - loss: 5.5221 - acc: 0.6510 - val_loss: 4.2873 - val_acc: 0.7220\n",
      "Epoch 35/50\n",
      "1000/1000 [==============================] - 0s - loss: 5.6321 - acc: 0.6420 - val_loss: 5.6067 - val_acc: 0.6440\n",
      "Epoch 36/50\n",
      "1000/1000 [==============================] - 0s - loss: 5.8474 - acc: 0.6300 - val_loss: 5.0816 - val_acc: 0.6810\n",
      "Epoch 37/50\n",
      "1000/1000 [==============================] - 0s - loss: 4.9056 - acc: 0.6880 - val_loss: 4.9555 - val_acc: 0.6860\n",
      "Epoch 38/50\n",
      "1000/1000 [==============================] - 0s - loss: 5.0373 - acc: 0.6780 - val_loss: 3.9801 - val_acc: 0.7460\n",
      "Epoch 39/50\n",
      "1000/1000 [==============================] - 0s - loss: 4.9504 - acc: 0.6800 - val_loss: 4.0580 - val_acc: 0.7440\n",
      "Epoch 40/50\n",
      "1000/1000 [==============================] - 0s - loss: 4.8002 - acc: 0.6910 - val_loss: 4.1488 - val_acc: 0.7370\n",
      "Epoch 41/50\n",
      "1000/1000 [==============================] - 0s - loss: 4.5399 - acc: 0.7120 - val_loss: 4.4992 - val_acc: 0.7100\n",
      "Epoch 42/50\n",
      "1000/1000 [==============================] - 0s - loss: 4.3613 - acc: 0.7220 - val_loss: 4.5513 - val_acc: 0.7080\n",
      "Epoch 43/50\n",
      "1000/1000 [==============================] - 0s - loss: 4.2955 - acc: 0.7260 - val_loss: 4.1005 - val_acc: 0.7390\n",
      "Epoch 44/50\n",
      "1000/1000 [==============================] - 0s - loss: 4.2693 - acc: 0.7310 - val_loss: 4.8924 - val_acc: 0.6910\n",
      "Epoch 45/50\n",
      "1000/1000 [==============================] - 0s - loss: 4.4603 - acc: 0.7160 - val_loss: 4.6661 - val_acc: 0.7000\n",
      "Epoch 46/50\n",
      "1000/1000 [==============================] - 0s - loss: 4.2763 - acc: 0.7310 - val_loss: 4.2186 - val_acc: 0.7320\n",
      "Epoch 47/50\n",
      "1000/1000 [==============================] - 0s - loss: 4.1296 - acc: 0.7360 - val_loss: 3.6726 - val_acc: 0.7650\n",
      "Epoch 48/50\n",
      "1000/1000 [==============================] - 0s - loss: 4.0628 - acc: 0.7410 - val_loss: 3.8290 - val_acc: 0.7550\n",
      "Epoch 49/50\n",
      "1000/1000 [==============================] - 0s - loss: 4.2058 - acc: 0.7300 - val_loss: 3.3758 - val_acc: 0.7860\n",
      "Epoch 50/50\n",
      "1000/1000 [==============================] - 0s - loss: 4.2206 - acc: 0.7300 - val_loss: 3.9213 - val_acc: 0.7500\n"
     ]
    },
    {
     "data": {
      "text/plain": [
       "<keras.callbacks.History at 0x11f2c1b10>"
      ]
     },
     "execution_count": 7,
     "metadata": {},
     "output_type": "execute_result"
    }
   ],
   "source": [
    "# Fit the model\n",
    "print train_labels.shape\n",
    "model.fit(train_images, train_labels, \n",
    "          validation_data = (test_images, test_labels), \n",
    "          nb_epoch=50, \n",
    "          batch_size = 100)"
   ]
  },
  {
   "cell_type": "code",
   "execution_count": 8,
   "metadata": {
    "collapsed": false
   },
   "outputs": [],
   "source": [
    "from keras.layers import Conv2D, MaxPooling2D, Flatten\n",
    "from keras import backend as K"
   ]
  },
  {
   "cell_type": "code",
   "execution_count": 9,
   "metadata": {
    "collapsed": true
   },
   "outputs": [],
   "source": [
    "batch_size = 128\n",
    "num_classes = 10\n",
    "epochs = 12\n",
    "\n",
    "# input image dimensions\n",
    "img_rows, img_cols = 28, 28\n",
    "\n",
    "train_images = train_images.reshape(train_images.shape[0], img_rows, img_cols, 1)\n",
    "test_images = test_images.reshape(test_images.shape[0], img_rows, img_cols, 1)\n",
    "input_shape = (img_rows, img_cols, 1)"
   ]
  },
  {
   "cell_type": "code",
   "execution_count": 10,
   "metadata": {
    "collapsed": false
   },
   "outputs": [
    {
     "name": "stdout",
     "output_type": "stream",
     "text": [
      "('train_images shape:', (1000, 28, 28, 1))\n",
      "(1000, 'train samples')\n",
      "(1000, 'test samples')\n"
     ]
    }
   ],
   "source": [
    "print('train_images shape:', train_images.shape)\n",
    "print(train_images.shape[0], 'train samples')\n",
    "print(test_images.shape[0], 'test samples')"
   ]
  },
  {
   "cell_type": "code",
   "execution_count": 11,
   "metadata": {
    "collapsed": true
   },
   "outputs": [],
   "source": [
    "import keras\n",
    "from keras.datasets import mnist\n",
    "from keras.models import Sequential\n",
    "from keras.layers import Dense, Dropout\n",
    "\n",
    "model = Sequential()\n",
    "model.add(Conv2D(32, kernel_size=(3, 3), activation='relu', input_shape=input_shape))\n",
    "model.add(Conv2D(64, (3, 3), activation='relu'))\n",
    "model.add(MaxPooling2D(pool_size=(2, 2)))\n",
    "model.add(Dropout(0.25))\n",
    "model.add(Flatten())\n",
    "model.add(Dense(128, activation='relu'))\n",
    "model.add(Dropout(0.5))\n",
    "model.add(Dense(num_classes, activation='softmax'))"
   ]
  },
  {
   "cell_type": "code",
   "execution_count": 12,
   "metadata": {
    "collapsed": true
   },
   "outputs": [],
   "source": [
    "model.compile(optimizer='rmsprop',\n",
    "          loss='categorical_crossentropy',\n",
    "          metrics=['accuracy'])"
   ]
  },
  {
   "cell_type": "code",
   "execution_count": 13,
   "metadata": {
    "collapsed": false
   },
   "outputs": [
    {
     "name": "stdout",
     "output_type": "stream",
     "text": [
      "Train on 1000 samples, validate on 1000 samples\n",
      "Epoch 1/25\n",
      "1000/1000 [==============================] - 2s - loss: 13.7689 - acc: 0.1290 - val_loss: 13.7596 - val_acc: 0.1420\n",
      "Epoch 2/25\n",
      "1000/1000 [==============================] - 2s - loss: 12.2713 - acc: 0.2320 - val_loss: 11.8043 - val_acc: 0.2590\n",
      "Epoch 3/25\n",
      "1000/1000 [==============================] - 2s - loss: 11.3104 - acc: 0.2900 - val_loss: 9.6131 - val_acc: 0.3930\n",
      "Epoch 4/25\n",
      "1000/1000 [==============================] - 2s - loss: 10.2654 - acc: 0.3510 - val_loss: 8.5820 - val_acc: 0.4600\n",
      "Epoch 5/25\n",
      "1000/1000 [==============================] - 2s - loss: 9.3263 - acc: 0.4090 - val_loss: 8.0888 - val_acc: 0.4870\n",
      "Epoch 6/25\n",
      "1000/1000 [==============================] - 2s - loss: 8.3647 - acc: 0.4560 - val_loss: 6.9464 - val_acc: 0.5600\n",
      "Epoch 7/25\n",
      "1000/1000 [==============================] - 2s - loss: 7.3228 - acc: 0.5240 - val_loss: 5.5046 - val_acc: 0.6450\n",
      "Epoch 8/25\n",
      "1000/1000 [==============================] - 2s - loss: 6.1872 - acc: 0.5900 - val_loss: 4.6664 - val_acc: 0.6770\n",
      "Epoch 9/25\n",
      "1000/1000 [==============================] - 2s - loss: 5.1831 - acc: 0.6320 - val_loss: 3.5157 - val_acc: 0.7290\n",
      "Epoch 10/25\n",
      "1000/1000 [==============================] - 2s - loss: 2.7657 - acc: 0.7270 - val_loss: 0.7865 - val_acc: 0.8760\n",
      "Epoch 11/25\n",
      "1000/1000 [==============================] - 2s - loss: 0.8500 - acc: 0.8380 - val_loss: 0.5481 - val_acc: 0.8760\n",
      "Epoch 12/25\n",
      "1000/1000 [==============================] - 2s - loss: 0.4673 - acc: 0.8910 - val_loss: 0.4311 - val_acc: 0.8840\n",
      "Epoch 13/25\n",
      "1000/1000 [==============================] - 2s - loss: 0.2931 - acc: 0.9140 - val_loss: 0.3113 - val_acc: 0.9150\n",
      "Epoch 14/25\n",
      "1000/1000 [==============================] - 2s - loss: 0.1933 - acc: 0.9290 - val_loss: 0.3029 - val_acc: 0.9340\n",
      "Epoch 15/25\n",
      "1000/1000 [==============================] - 2s - loss: 0.1670 - acc: 0.9450 - val_loss: 0.3308 - val_acc: 0.9240\n",
      "Epoch 16/25\n",
      "1000/1000 [==============================] - 2s - loss: 0.1519 - acc: 0.9550 - val_loss: 0.3823 - val_acc: 0.9230\n",
      "Epoch 17/25\n",
      "1000/1000 [==============================] - 2s - loss: 0.1351 - acc: 0.9560 - val_loss: 0.3362 - val_acc: 0.9300\n",
      "Epoch 18/25\n",
      "1000/1000 [==============================] - 2s - loss: 0.0972 - acc: 0.9660 - val_loss: 0.4816 - val_acc: 0.9180\n",
      "Epoch 19/25\n",
      "1000/1000 [==============================] - 2s - loss: 0.1178 - acc: 0.9610 - val_loss: 0.4060 - val_acc: 0.9190\n",
      "Epoch 20/25\n",
      "1000/1000 [==============================] - 2s - loss: 0.0764 - acc: 0.9760 - val_loss: 0.3027 - val_acc: 0.9420\n",
      "Epoch 21/25\n",
      "1000/1000 [==============================] - 2s - loss: 0.0617 - acc: 0.9770 - val_loss: 0.5003 - val_acc: 0.9140\n",
      "Epoch 22/25\n",
      "1000/1000 [==============================] - 2s - loss: 0.0597 - acc: 0.9730 - val_loss: 0.3437 - val_acc: 0.9420\n",
      "Epoch 23/25\n",
      "1000/1000 [==============================] - 2s - loss: 0.0443 - acc: 0.9820 - val_loss: 0.3156 - val_acc: 0.9380\n",
      "Epoch 24/25\n",
      "1000/1000 [==============================] - 2s - loss: 0.0510 - acc: 0.9830 - val_loss: 0.4112 - val_acc: 0.9350\n",
      "Epoch 25/25\n",
      "1000/1000 [==============================] - 2s - loss: 0.0597 - acc: 0.9840 - val_loss: 0.3467 - val_acc: 0.9340\n"
     ]
    }
   ],
   "source": [
    "hist = model.fit(train_images, train_labels,\n",
    "          batch_size=batch_size,\n",
    "          nb_epoch=25,\n",
    "          verbose=1,\n",
    "          validation_data=(test_images, test_labels))"
   ]
  },
  {
   "cell_type": "code",
   "execution_count": 14,
   "metadata": {
    "collapsed": true
   },
   "outputs": [],
   "source": [
    "score = model.evaluate(test_images, test_labels, verbose=0)"
   ]
  },
  {
   "cell_type": "code",
   "execution_count": 15,
   "metadata": {
    "collapsed": false
   },
   "outputs": [
    {
     "name": "stdout",
     "output_type": "stream",
     "text": [
      "('Test loss:', 0.34673628067970275)\n",
      "('Test accuracy:', 0.93400000000000005)\n"
     ]
    }
   ],
   "source": [
    "print('Test loss:', score[0])\n",
    "print('Test accuracy:', score[1])"
   ]
  },
  {
   "cell_type": "code",
   "execution_count": 17,
   "metadata": {
    "collapsed": true
   },
   "outputs": [],
   "source": [
    "import matplotlib.pyplot as plt\n",
    "%matplotlib inline"
   ]
  },
  {
   "cell_type": "code",
   "execution_count": 18,
   "metadata": {
    "collapsed": false
   },
   "outputs": [
    {
     "data": {
      "image/png": "[encoded data removed]",
      "text/plain": [
       "<matplotlib.figure.Figure at 0x11f2c1ed0>"
      ]
     },
     "metadata": {},
     "output_type": "display_data"
    },
    {
     "data": {
      "image/png": "[encoded data removed]",
      "text/plain": [
       "<matplotlib.figure.Figure at 0x122b28f90>"
      ]
     },
     "metadata": {},
     "output_type": "display_data"
    }
   ],
   "source": [
    "# summarize history for accuracy\n",
    "plt.plot(hist.history['acc'])\n",
    "plt.plot(hist.history['val_acc'])\n",
    "plt.title('model accuracy')\n",
    "plt.ylabel('accuracy')\n",
    "plt.xlabel('epoch')\n",
    "plt.legend(['train', 'test'], loc='upper left')\n",
    "plt.show()\n",
    "# summarize history for loss\n",
    "plt.plot(hist.history['loss'])\n",
    "plt.plot(hist.history['val_loss'])\n",
    "plt.title('model loss')\n",
    "plt.ylabel('loss')\n",
    "plt.xlabel('epoch')\n",
    "plt.legend(['train', 'test'], loc='upper left')\n",
    "plt.show()"
   ]
  },
  {
   "cell_type": "code",
   "execution_count": null,
   "metadata": {
    "collapsed": true
   },
   "outputs": [],
   "source": []
  }
 ],
 "metadata": {
  "kernelspec": {
   "display_name": "Python 2",
   "language": "python",
   "name": "python2"
  },
  "language_info": {
   "codemirror_mode": {
    "name": "ipython",
    "version": 2
   },
   "file_extension": ".py",
   "mimetype": "text/x-python",
   "name": "python",
   "nbconvert_exporter": "python",
   "pygments_lexer": "ipython2",
   "version": "2.7.10"
  }
 },
 "nbformat": 4,
 "nbformat_minor": 0
}
